{
 "cells": [
  {
   "cell_type": "markdown",
   "id": "c96e9f3c",
   "metadata": {},
   "source": [
    "true positive - IOUGT above threshold\n",
    "total count = all bounding boxes above IOUGT\n",
    "\n",
    "False Positive\n",
    "bounding boxes below IOUGT\n",
    "Total count - all bounding boxes below IOUGT\n",
    "\n",
    "False Negative\n",
    "ground truths undetected\n",
    "Total ground truths that do not having matching bounding box\n",
    "For each image:\n",
    "go through each GT bounding box\n",
    "match with all bounding boxes present:\n",
    "Place highest number present\n",
    "total GT's below a certain threshold\n"
   ]
  },
  {
   "cell_type": "code",
   "execution_count": 123,
   "id": "66238dc3",
   "metadata": {},
   "outputs": [],
   "source": [
    "import os\n",
    "import json\n",
    "\n",
    "# Assume `json_string` contains the JSON string you want to parse\n",
    "file_name = './twentyFiveDict.json'\n",
    "# file_name = './droneDict.json'\n",
    "\n",
    "my_data = {}\n",
    "\n",
    "with open(file_name, 'r', encoding='utf-8') as f:\n",
    "    my_data = json.load(f)\n"
   ]
  },
  {
   "cell_type": "code",
   "execution_count": 124,
   "id": "11528591",
   "metadata": {},
   "outputs": [
    {
     "data": {
      "text/plain": [
       "['conditional-detr-resnet-50,',\n",
       " 'detr-resnet-101,',\n",
       " 'detr-resnet-50,',\n",
       " 'yolos-base,',\n",
       " 'yolos-tiny,',\n",
       " 'conditional-detr-resnet-50,detr-resnet-101,',\n",
       " 'conditional-detr-resnet-50,detr-resnet-50,',\n",
       " 'conditional-detr-resnet-50,yolos-base,',\n",
       " 'conditional-detr-resnet-50,yolos-tiny,',\n",
       " 'detr-resnet-101,detr-resnet-50,',\n",
       " 'detr-resnet-101,yolos-base,',\n",
       " 'detr-resnet-101,yolos-tiny,',\n",
       " 'detr-resnet-50,yolos-base,',\n",
       " 'detr-resnet-50,yolos-tiny,',\n",
       " 'yolos-base,yolos-tiny,',\n",
       " 'conditional-detr-resnet-50,detr-resnet-101,detr-resnet-50,',\n",
       " 'conditional-detr-resnet-50,detr-resnet-101,yolos-base,',\n",
       " 'conditional-detr-resnet-50,detr-resnet-101,yolos-tiny,',\n",
       " 'conditional-detr-resnet-50,detr-resnet-50,yolos-base,',\n",
       " 'conditional-detr-resnet-50,detr-resnet-50,yolos-tiny,',\n",
       " 'conditional-detr-resnet-50,yolos-base,yolos-tiny,',\n",
       " 'detr-resnet-101,detr-resnet-50,yolos-base,',\n",
       " 'detr-resnet-101,detr-resnet-50,yolos-tiny,',\n",
       " 'detr-resnet-101,yolos-base,yolos-tiny,',\n",
       " 'detr-resnet-50,yolos-base,yolos-tiny,',\n",
       " 'conditional-detr-resnet-50,detr-resnet-101,detr-resnet-50,yolos-base,',\n",
       " 'conditional-detr-resnet-50,detr-resnet-101,detr-resnet-50,yolos-tiny,',\n",
       " 'conditional-detr-resnet-50,detr-resnet-101,yolos-base,yolos-tiny,',\n",
       " 'conditional-detr-resnet-50,detr-resnet-50,yolos-base,yolos-tiny,',\n",
       " 'detr-resnet-101,detr-resnet-50,yolos-base,yolos-tiny,',\n",
       " 'conditional-detr-resnet-50,detr-resnet-101,detr-resnet-50,yolos-base,yolos-tiny,']"
      ]
     },
     "execution_count": 124,
     "metadata": {},
     "output_type": "execute_result"
    }
   ],
   "source": [
    "list(my_data.keys())"
   ]
  },
  {
   "cell_type": "code",
   "execution_count": 125,
   "id": "97e89b3b",
   "metadata": {},
   "outputs": [],
   "source": [
    "iou = .5\n",
    "conf = .5\n"
   ]
  },
  {
   "cell_type": "code",
   "execution_count": 132,
   "id": "adb2c433",
   "metadata": {},
   "outputs": [
    {
     "name": "stderr",
     "output_type": "stream",
     "text": [
      "C:\\Users\\lpana\\AppData\\Local\\Temp/ipykernel_23220/3239791228.py:24: DeprecationWarning:\n",
      "\n",
      "`np.float` is a deprecated alias for the builtin `float`. To silence this warning, use `float` by itself. Doing this will not modify any behavior and is safe. If you specifically wanted the numpy scalar type, use `np.float64` here.\n",
      "Deprecated in NumPy 1.20; for more details and guidance: https://numpy.org/devdocs/release/1.20.0-notes.html#deprecations\n",
      "\n"
     ]
    }
   ],
   "source": [
    "from statistics import mean\n",
    "import numpy as np\n",
    "\n",
    "finalDict = {}\n",
    "finalCountDict = {}\n",
    "for key in list(my_data.keys()):\n",
    "    TP = []\n",
    "    TPCount = 0\n",
    "    FP = []\n",
    "    FPCount = 0\n",
    "    FN = []\n",
    "    FNCount = 0\n",
    "    data = my_data[key]\n",
    "    for eachImage in data:\n",
    "        for detection in eachImage:\n",
    "            if detection == 'FN':\n",
    "                for detect in eachImage['FN']:\n",
    "                    FN.append(detect)\n",
    "                    FNCount = FNCount +1\n",
    "                continue\n",
    "       \n",
    "            data = eachImage[detection]\n",
    "            x = np.array(data['confidence'])\n",
    "            confidence = x.astype(np.float)\n",
    "            if mean(confidence) > conf:\n",
    "                if data['iouGT'] > iou:\n",
    "                    TP.append(data)\n",
    "                    TPCount = TPCount+1\n",
    "                else:\n",
    "                    FP.append(data)\n",
    "                    FPCount= FPCount + 1\n",
    "    finalDict[key] = {'TruePositive': TP, 'FalsePositive': FP, 'FalseNegative': FN}\n",
    "    finalCountDict[key] = {'TruePositive': TPCount, 'FalsePositive': FPCount, 'FalseNegative': FNCount}"
   ]
  },
  {
   "cell_type": "code",
   "execution_count": 133,
   "id": "9228ba74",
   "metadata": {},
   "outputs": [],
   "source": [
    "import pandas as pd"
   ]
  },
  {
   "cell_type": "code",
   "execution_count": 134,
   "id": "19ea680a",
   "metadata": {},
   "outputs": [
    {
     "data": {
      "text/html": [
       "<div>\n",
       "<style scoped>\n",
       "    .dataframe tbody tr th:only-of-type {\n",
       "        vertical-align: middle;\n",
       "    }\n",
       "\n",
       "    .dataframe tbody tr th {\n",
       "        vertical-align: top;\n",
       "    }\n",
       "\n",
       "    .dataframe thead th {\n",
       "        text-align: right;\n",
       "    }\n",
       "</style>\n",
       "<table border=\"1\" class=\"dataframe\">\n",
       "  <thead>\n",
       "    <tr style=\"text-align: right;\">\n",
       "      <th></th>\n",
       "      <th>conditional-detr-resnet-50,</th>\n",
       "      <th>detr-resnet-101,</th>\n",
       "      <th>detr-resnet-50,</th>\n",
       "      <th>yolos-base,</th>\n",
       "      <th>yolos-tiny,</th>\n",
       "      <th>conditional-detr-resnet-50,detr-resnet-101,</th>\n",
       "      <th>conditional-detr-resnet-50,detr-resnet-50,</th>\n",
       "      <th>conditional-detr-resnet-50,yolos-base,</th>\n",
       "      <th>conditional-detr-resnet-50,yolos-tiny,</th>\n",
       "      <th>detr-resnet-101,detr-resnet-50,</th>\n",
       "      <th>...</th>\n",
       "      <th>detr-resnet-101,detr-resnet-50,yolos-base,</th>\n",
       "      <th>detr-resnet-101,detr-resnet-50,yolos-tiny,</th>\n",
       "      <th>detr-resnet-101,yolos-base,yolos-tiny,</th>\n",
       "      <th>detr-resnet-50,yolos-base,yolos-tiny,</th>\n",
       "      <th>conditional-detr-resnet-50,detr-resnet-101,detr-resnet-50,yolos-base,</th>\n",
       "      <th>conditional-detr-resnet-50,detr-resnet-101,detr-resnet-50,yolos-tiny,</th>\n",
       "      <th>conditional-detr-resnet-50,detr-resnet-101,yolos-base,yolos-tiny,</th>\n",
       "      <th>conditional-detr-resnet-50,detr-resnet-50,yolos-base,yolos-tiny,</th>\n",
       "      <th>detr-resnet-101,detr-resnet-50,yolos-base,yolos-tiny,</th>\n",
       "      <th>conditional-detr-resnet-50,detr-resnet-101,detr-resnet-50,yolos-base,yolos-tiny,</th>\n",
       "    </tr>\n",
       "  </thead>\n",
       "  <tbody>\n",
       "    <tr>\n",
       "      <th>TruePositive</th>\n",
       "      <td>[]</td>\n",
       "      <td>[{'imgName': '000000110999.jpg', 'IOU': 1.0, '...</td>\n",
       "      <td>[{'imgName': '000000154004.jpg', 'IOU': 1.0, '...</td>\n",
       "      <td>[{'imgName': '000000099114.jpg', 'IOU': 1.0, '...</td>\n",
       "      <td>[{'imgName': '000000092939.jpg', 'IOU': 1.0, '...</td>\n",
       "      <td>[{'imgName': '000000035197.jpg', 'IOU': 0.8209...</td>\n",
       "      <td>[{'imgName': '000000154004.jpg', 'IOU': 0.8889...</td>\n",
       "      <td>[{'imgName': '000000481390.jpg', 'IOU': 0.8925...</td>\n",
       "      <td>[]</td>\n",
       "      <td>[{'imgName': '000000092939.jpg', 'IOU': 0.8763...</td>\n",
       "      <td>...</td>\n",
       "      <td>[{'imgName': '000000414673.jpg', 'IOU': 0.8665...</td>\n",
       "      <td>[]</td>\n",
       "      <td>[{'imgName': '000000414673.jpg', 'IOU': 0.9126...</td>\n",
       "      <td>[]</td>\n",
       "      <td>[{'imgName': '000000154004.jpg', 'IOU': 0.8818...</td>\n",
       "      <td>[]</td>\n",
       "      <td>[{'imgName': '000000254368.jpg', 'IOU': 0.8619...</td>\n",
       "      <td>[]</td>\n",
       "      <td>[{'imgName': '000000271471.jpg', 'IOU': 0.9252...</td>\n",
       "      <td>[{'imgName': '000000035197.jpg', 'IOU': 0.9309...</td>\n",
       "    </tr>\n",
       "    <tr>\n",
       "      <th>FalsePositive</th>\n",
       "      <td>[]</td>\n",
       "      <td>[{'imgName': '000000099114.jpg', 'IOU': 1.0, '...</td>\n",
       "      <td>[{'imgName': '000000092939.jpg', 'IOU': 1.0, '...</td>\n",
       "      <td>[{'imgName': '000000099114.jpg', 'IOU': 1.0, '...</td>\n",
       "      <td>[{'imgName': '000000035197.jpg', 'IOU': 1.0, '...</td>\n",
       "      <td>[{'imgName': '000000099114.jpg', 'IOU': 0.8036...</td>\n",
       "      <td>[{'imgName': '000000035197.jpg', 'IOU': 0.8185...</td>\n",
       "      <td>[{'imgName': '000000035197.jpg', 'IOU': 0.8617...</td>\n",
       "      <td>[{'imgName': '000000569273.jpg', 'IOU': 0.8232...</td>\n",
       "      <td>[{'imgName': '000000035197.jpg', 'IOU': 0.8566...</td>\n",
       "      <td>...</td>\n",
       "      <td>[{'imgName': '000000414673.jpg', 'IOU': 0.8975...</td>\n",
       "      <td>[{'imgName': '000000154004.jpg', 'IOU': 0.8008...</td>\n",
       "      <td>[{'imgName': '000000414673.jpg', 'IOU': 0.8178...</td>\n",
       "      <td>[{'imgName': '000000323895.jpg', 'IOU': 0.8157...</td>\n",
       "      <td>[]</td>\n",
       "      <td>[{'imgName': '000000154004.jpg', 'IOU': 0.8023...</td>\n",
       "      <td>[{'imgName': '000000154004.jpg', 'IOU': 0.8047...</td>\n",
       "      <td>[]</td>\n",
       "      <td>[{'imgName': '000000506178.jpg', 'IOU': 0.9451...</td>\n",
       "      <td>[{'imgName': '000000154004.jpg', 'IOU': 0.9332...</td>\n",
       "    </tr>\n",
       "    <tr>\n",
       "      <th>FalseNegative</th>\n",
       "      <td>[[person, 0.0637065, 0.0, 0.6067835, 0.665172]...</td>\n",
       "      <td>[[person, 0.0637065, 0.0, 0.6067835, 0.665172]...</td>\n",
       "      <td>[[person, 0.0637065, 0.0, 0.6067835, 0.665172]...</td>\n",
       "      <td>[[person, 0.0637065, 0.0, 0.6067835, 0.665172]...</td>\n",
       "      <td>[[person, 0.0637065, 0.0, 0.6067835, 0.665172]...</td>\n",
       "      <td>[[person, 0.0637065, 0.0, 0.6067835, 0.665172]...</td>\n",
       "      <td>[[person, 0.0637065, 0.0, 0.6067835, 0.665172]...</td>\n",
       "      <td>[[person, 0.0637065, 0.0, 0.6067835, 0.665172]...</td>\n",
       "      <td>[[person, 0.0637065, 0.0, 0.6067835, 0.665172]...</td>\n",
       "      <td>[[person, 0.0637065, 0.0, 0.6067835, 0.665172]...</td>\n",
       "      <td>...</td>\n",
       "      <td>[[person, 0.0637065, 0.0, 0.6067835, 0.665172]...</td>\n",
       "      <td>[[person, 0.0637065, 0.0, 0.6067835, 0.665172]...</td>\n",
       "      <td>[[person, 0.0637065, 0.0, 0.6067835, 0.665172]...</td>\n",
       "      <td>[[person, 0.0637065, 0.0, 0.6067835, 0.665172]...</td>\n",
       "      <td>[[person, 0.0637065, 0.0, 0.6067835, 0.665172]...</td>\n",
       "      <td>[[person, 0.0637065, 0.0, 0.6067835, 0.665172]...</td>\n",
       "      <td>[[person, 0.0637065, 0.0, 0.6067835, 0.665172]...</td>\n",
       "      <td>[[person, 0.0637065, 0.0, 0.6067835, 0.665172]...</td>\n",
       "      <td>[[person, 0.0637065, 0.0, 0.6067835, 0.665172]...</td>\n",
       "      <td>[[person, 0.861212, 0.37392149999999996, 0.967...</td>\n",
       "    </tr>\n",
       "  </tbody>\n",
       "</table>\n",
       "<p>3 rows × 31 columns</p>\n",
       "</div>"
      ],
      "text/plain": [
       "                                     conditional-detr-resnet-50,  \\\n",
       "TruePositive                                                  []   \n",
       "FalsePositive                                                 []   \n",
       "FalseNegative  [[person, 0.0637065, 0.0, 0.6067835, 0.665172]...   \n",
       "\n",
       "                                                detr-resnet-101,  \\\n",
       "TruePositive   [{'imgName': '000000110999.jpg', 'IOU': 1.0, '...   \n",
       "FalsePositive  [{'imgName': '000000099114.jpg', 'IOU': 1.0, '...   \n",
       "FalseNegative  [[person, 0.0637065, 0.0, 0.6067835, 0.665172]...   \n",
       "\n",
       "                                                 detr-resnet-50,  \\\n",
       "TruePositive   [{'imgName': '000000154004.jpg', 'IOU': 1.0, '...   \n",
       "FalsePositive  [{'imgName': '000000092939.jpg', 'IOU': 1.0, '...   \n",
       "FalseNegative  [[person, 0.0637065, 0.0, 0.6067835, 0.665172]...   \n",
       "\n",
       "                                                     yolos-base,  \\\n",
       "TruePositive   [{'imgName': '000000099114.jpg', 'IOU': 1.0, '...   \n",
       "FalsePositive  [{'imgName': '000000099114.jpg', 'IOU': 1.0, '...   \n",
       "FalseNegative  [[person, 0.0637065, 0.0, 0.6067835, 0.665172]...   \n",
       "\n",
       "                                                     yolos-tiny,  \\\n",
       "TruePositive   [{'imgName': '000000092939.jpg', 'IOU': 1.0, '...   \n",
       "FalsePositive  [{'imgName': '000000035197.jpg', 'IOU': 1.0, '...   \n",
       "FalseNegative  [[person, 0.0637065, 0.0, 0.6067835, 0.665172]...   \n",
       "\n",
       "                     conditional-detr-resnet-50,detr-resnet-101,  \\\n",
       "TruePositive   [{'imgName': '000000035197.jpg', 'IOU': 0.8209...   \n",
       "FalsePositive  [{'imgName': '000000099114.jpg', 'IOU': 0.8036...   \n",
       "FalseNegative  [[person, 0.0637065, 0.0, 0.6067835, 0.665172]...   \n",
       "\n",
       "                      conditional-detr-resnet-50,detr-resnet-50,  \\\n",
       "TruePositive   [{'imgName': '000000154004.jpg', 'IOU': 0.8889...   \n",
       "FalsePositive  [{'imgName': '000000035197.jpg', 'IOU': 0.8185...   \n",
       "FalseNegative  [[person, 0.0637065, 0.0, 0.6067835, 0.665172]...   \n",
       "\n",
       "                          conditional-detr-resnet-50,yolos-base,  \\\n",
       "TruePositive   [{'imgName': '000000481390.jpg', 'IOU': 0.8925...   \n",
       "FalsePositive  [{'imgName': '000000035197.jpg', 'IOU': 0.8617...   \n",
       "FalseNegative  [[person, 0.0637065, 0.0, 0.6067835, 0.665172]...   \n",
       "\n",
       "                          conditional-detr-resnet-50,yolos-tiny,  \\\n",
       "TruePositive                                                  []   \n",
       "FalsePositive  [{'imgName': '000000569273.jpg', 'IOU': 0.8232...   \n",
       "FalseNegative  [[person, 0.0637065, 0.0, 0.6067835, 0.665172]...   \n",
       "\n",
       "                                 detr-resnet-101,detr-resnet-50,  ...  \\\n",
       "TruePositive   [{'imgName': '000000092939.jpg', 'IOU': 0.8763...  ...   \n",
       "FalsePositive  [{'imgName': '000000035197.jpg', 'IOU': 0.8566...  ...   \n",
       "FalseNegative  [[person, 0.0637065, 0.0, 0.6067835, 0.665172]...  ...   \n",
       "\n",
       "                      detr-resnet-101,detr-resnet-50,yolos-base,  \\\n",
       "TruePositive   [{'imgName': '000000414673.jpg', 'IOU': 0.8665...   \n",
       "FalsePositive  [{'imgName': '000000414673.jpg', 'IOU': 0.8975...   \n",
       "FalseNegative  [[person, 0.0637065, 0.0, 0.6067835, 0.665172]...   \n",
       "\n",
       "                      detr-resnet-101,detr-resnet-50,yolos-tiny,  \\\n",
       "TruePositive                                                  []   \n",
       "FalsePositive  [{'imgName': '000000154004.jpg', 'IOU': 0.8008...   \n",
       "FalseNegative  [[person, 0.0637065, 0.0, 0.6067835, 0.665172]...   \n",
       "\n",
       "                          detr-resnet-101,yolos-base,yolos-tiny,  \\\n",
       "TruePositive   [{'imgName': '000000414673.jpg', 'IOU': 0.9126...   \n",
       "FalsePositive  [{'imgName': '000000414673.jpg', 'IOU': 0.8178...   \n",
       "FalseNegative  [[person, 0.0637065, 0.0, 0.6067835, 0.665172]...   \n",
       "\n",
       "                           detr-resnet-50,yolos-base,yolos-tiny,  \\\n",
       "TruePositive                                                  []   \n",
       "FalsePositive  [{'imgName': '000000323895.jpg', 'IOU': 0.8157...   \n",
       "FalseNegative  [[person, 0.0637065, 0.0, 0.6067835, 0.665172]...   \n",
       "\n",
       "              conditional-detr-resnet-50,detr-resnet-101,detr-resnet-50,yolos-base,  \\\n",
       "TruePositive   [{'imgName': '000000154004.jpg', 'IOU': 0.8818...                      \n",
       "FalsePositive                                                 []                      \n",
       "FalseNegative  [[person, 0.0637065, 0.0, 0.6067835, 0.665172]...                      \n",
       "\n",
       "              conditional-detr-resnet-50,detr-resnet-101,detr-resnet-50,yolos-tiny,  \\\n",
       "TruePositive                                                  []                      \n",
       "FalsePositive  [{'imgName': '000000154004.jpg', 'IOU': 0.8023...                      \n",
       "FalseNegative  [[person, 0.0637065, 0.0, 0.6067835, 0.665172]...                      \n",
       "\n",
       "              conditional-detr-resnet-50,detr-resnet-101,yolos-base,yolos-tiny,  \\\n",
       "TruePositive   [{'imgName': '000000254368.jpg', 'IOU': 0.8619...                  \n",
       "FalsePositive  [{'imgName': '000000154004.jpg', 'IOU': 0.8047...                  \n",
       "FalseNegative  [[person, 0.0637065, 0.0, 0.6067835, 0.665172]...                  \n",
       "\n",
       "              conditional-detr-resnet-50,detr-resnet-50,yolos-base,yolos-tiny,  \\\n",
       "TruePositive                                                  []                 \n",
       "FalsePositive                                                 []                 \n",
       "FalseNegative  [[person, 0.0637065, 0.0, 0.6067835, 0.665172]...                 \n",
       "\n",
       "              detr-resnet-101,detr-resnet-50,yolos-base,yolos-tiny,  \\\n",
       "TruePositive   [{'imgName': '000000271471.jpg', 'IOU': 0.9252...      \n",
       "FalsePositive  [{'imgName': '000000506178.jpg', 'IOU': 0.9451...      \n",
       "FalseNegative  [[person, 0.0637065, 0.0, 0.6067835, 0.665172]...      \n",
       "\n",
       "              conditional-detr-resnet-50,detr-resnet-101,detr-resnet-50,yolos-base,yolos-tiny,  \n",
       "TruePositive   [{'imgName': '000000035197.jpg', 'IOU': 0.9309...                                \n",
       "FalsePositive  [{'imgName': '000000154004.jpg', 'IOU': 0.9332...                                \n",
       "FalseNegative  [[person, 0.861212, 0.37392149999999996, 0.967...                                \n",
       "\n",
       "[3 rows x 31 columns]"
      ]
     },
     "execution_count": 134,
     "metadata": {},
     "output_type": "execute_result"
    }
   ],
   "source": [
    "dataFrame = pd.DataFrame.from_dict(finalDict)\n",
    "dataFrame\n"
   ]
  },
  {
   "cell_type": "code",
   "execution_count": 140,
   "id": "c04ec4bc",
   "metadata": {},
   "outputs": [
    {
     "data": {
      "text/html": [
       "<div>\n",
       "<style scoped>\n",
       "    .dataframe tbody tr th:only-of-type {\n",
       "        vertical-align: middle;\n",
       "    }\n",
       "\n",
       "    .dataframe tbody tr th {\n",
       "        vertical-align: top;\n",
       "    }\n",
       "\n",
       "    .dataframe thead th {\n",
       "        text-align: right;\n",
       "    }\n",
       "</style>\n",
       "<table border=\"1\" class=\"dataframe\">\n",
       "  <thead>\n",
       "    <tr style=\"text-align: right;\">\n",
       "      <th></th>\n",
       "      <th>index</th>\n",
       "      <th>variable</th>\n",
       "      <th>value</th>\n",
       "    </tr>\n",
       "  </thead>\n",
       "  <tbody>\n",
       "    <tr>\n",
       "      <th>0</th>\n",
       "      <td>conditional-detr-resnet-50,</td>\n",
       "      <td>TruePositive</td>\n",
       "      <td>0</td>\n",
       "    </tr>\n",
       "    <tr>\n",
       "      <th>1</th>\n",
       "      <td>detr-resnet-101,</td>\n",
       "      <td>TruePositive</td>\n",
       "      <td>9</td>\n",
       "    </tr>\n",
       "    <tr>\n",
       "      <th>2</th>\n",
       "      <td>detr-resnet-50,</td>\n",
       "      <td>TruePositive</td>\n",
       "      <td>5</td>\n",
       "    </tr>\n",
       "    <tr>\n",
       "      <th>3</th>\n",
       "      <td>yolos-base,</td>\n",
       "      <td>TruePositive</td>\n",
       "      <td>15</td>\n",
       "    </tr>\n",
       "    <tr>\n",
       "      <th>4</th>\n",
       "      <td>yolos-tiny,</td>\n",
       "      <td>TruePositive</td>\n",
       "      <td>42</td>\n",
       "    </tr>\n",
       "    <tr>\n",
       "      <th>...</th>\n",
       "      <td>...</td>\n",
       "      <td>...</td>\n",
       "      <td>...</td>\n",
       "    </tr>\n",
       "    <tr>\n",
       "      <th>88</th>\n",
       "      <td>conditional-detr-resnet-50,detr-resnet-101,det...</td>\n",
       "      <td>FalseNegative</td>\n",
       "      <td>95</td>\n",
       "    </tr>\n",
       "    <tr>\n",
       "      <th>89</th>\n",
       "      <td>conditional-detr-resnet-50,detr-resnet-101,yol...</td>\n",
       "      <td>FalseNegative</td>\n",
       "      <td>94</td>\n",
       "    </tr>\n",
       "    <tr>\n",
       "      <th>90</th>\n",
       "      <td>conditional-detr-resnet-50,detr-resnet-50,yolo...</td>\n",
       "      <td>FalseNegative</td>\n",
       "      <td>96</td>\n",
       "    </tr>\n",
       "    <tr>\n",
       "      <th>91</th>\n",
       "      <td>detr-resnet-101,detr-resnet-50,yolos-base,yolo...</td>\n",
       "      <td>FalseNegative</td>\n",
       "      <td>92</td>\n",
       "    </tr>\n",
       "    <tr>\n",
       "      <th>92</th>\n",
       "      <td>conditional-detr-resnet-50,detr-resnet-101,det...</td>\n",
       "      <td>FalseNegative</td>\n",
       "      <td>76</td>\n",
       "    </tr>\n",
       "  </tbody>\n",
       "</table>\n",
       "<p>93 rows × 3 columns</p>\n",
       "</div>"
      ],
      "text/plain": [
       "                                                index       variable  value\n",
       "0                         conditional-detr-resnet-50,   TruePositive      0\n",
       "1                                    detr-resnet-101,   TruePositive      9\n",
       "2                                     detr-resnet-50,   TruePositive      5\n",
       "3                                         yolos-base,   TruePositive     15\n",
       "4                                         yolos-tiny,   TruePositive     42\n",
       "..                                                ...            ...    ...\n",
       "88  conditional-detr-resnet-50,detr-resnet-101,det...  FalseNegative     95\n",
       "89  conditional-detr-resnet-50,detr-resnet-101,yol...  FalseNegative     94\n",
       "90  conditional-detr-resnet-50,detr-resnet-50,yolo...  FalseNegative     96\n",
       "91  detr-resnet-101,detr-resnet-50,yolos-base,yolo...  FalseNegative     92\n",
       "92  conditional-detr-resnet-50,detr-resnet-101,det...  FalseNegative     76\n",
       "\n",
       "[93 rows x 3 columns]"
      ]
     },
     "execution_count": 140,
     "metadata": {},
     "output_type": "execute_result"
    }
   ],
   "source": [
    "dataFrameCount = pd.DataFrame.from_dict(finalCountDict)\n",
    "dataFrameCount = dataFrameCount.T.reset_index()\n",
    "dataFrameCount = dataFrameCount.melt(id_vars = 'index')\n",
    "# dataFrameCount = dataFrameCount.loc[(dataFrameCount['value'] > 0) & ((dataFrameCount['variable'] == 'TruePositive') | (dataFrameCount['variable'] == 'FalsePositive'))]\n",
    "# dataFrameCount = dataFrameCount.sort_values('value')\n",
    "\n",
    "\n",
    "dataFrameCount"
   ]
  },
  {
   "cell_type": "code",
   "execution_count": 141,
   "id": "3f88453d",
   "metadata": {},
   "outputs": [
    {
     "data": {
      "application/vnd.plotly.v1+json": {
       "config": {
        "plotlyServerURL": "https://plot.ly"
       },
       "data": [
        {
         "alignmentgroup": "True",
         "hovertemplate": "variable=TruePositive<br>index=%{x}<br>value=%{y}<extra></extra>",
         "legendgroup": "TruePositive",
         "marker": {
          "color": "#636efa",
          "pattern": {
           "shape": ""
          }
         },
         "name": "TruePositive",
         "offsetgroup": "TruePositive",
         "orientation": "v",
         "showlegend": true,
         "textposition": "auto",
         "type": "bar",
         "x": [
          "conditional-detr-resnet-50,",
          "detr-resnet-101,",
          "detr-resnet-50,",
          "yolos-base,",
          "yolos-tiny,",
          "conditional-detr-resnet-50,detr-resnet-101,",
          "conditional-detr-resnet-50,detr-resnet-50,",
          "conditional-detr-resnet-50,yolos-base,",
          "conditional-detr-resnet-50,yolos-tiny,",
          "detr-resnet-101,detr-resnet-50,",
          "detr-resnet-101,yolos-base,",
          "detr-resnet-101,yolos-tiny,",
          "detr-resnet-50,yolos-base,",
          "detr-resnet-50,yolos-tiny,",
          "yolos-base,yolos-tiny,",
          "conditional-detr-resnet-50,detr-resnet-101,detr-resnet-50,",
          "conditional-detr-resnet-50,detr-resnet-101,yolos-base,",
          "conditional-detr-resnet-50,detr-resnet-101,yolos-tiny,",
          "conditional-detr-resnet-50,detr-resnet-50,yolos-base,",
          "conditional-detr-resnet-50,detr-resnet-50,yolos-tiny,",
          "conditional-detr-resnet-50,yolos-base,yolos-tiny,",
          "detr-resnet-101,detr-resnet-50,yolos-base,",
          "detr-resnet-101,detr-resnet-50,yolos-tiny,",
          "detr-resnet-101,yolos-base,yolos-tiny,",
          "detr-resnet-50,yolos-base,yolos-tiny,",
          "conditional-detr-resnet-50,detr-resnet-101,detr-resnet-50,yolos-base,",
          "conditional-detr-resnet-50,detr-resnet-101,detr-resnet-50,yolos-tiny,",
          "conditional-detr-resnet-50,detr-resnet-101,yolos-base,yolos-tiny,",
          "conditional-detr-resnet-50,detr-resnet-50,yolos-base,yolos-tiny,",
          "detr-resnet-101,detr-resnet-50,yolos-base,yolos-tiny,",
          "conditional-detr-resnet-50,detr-resnet-101,detr-resnet-50,yolos-base,yolos-tiny,"
         ],
         "xaxis": "x",
         "y": [
          0,
          9,
          5,
          15,
          42,
          4,
          2,
          1,
          0,
          14,
          3,
          0,
          2,
          0,
          5,
          10,
          0,
          0,
          2,
          1,
          0,
          5,
          0,
          1,
          0,
          12,
          0,
          1,
          0,
          3,
          19
         ],
         "yaxis": "y"
        },
        {
         "alignmentgroup": "True",
         "hovertemplate": "variable=FalsePositive<br>index=%{x}<br>value=%{y}<extra></extra>",
         "legendgroup": "FalsePositive",
         "marker": {
          "color": "#EF553B",
          "pattern": {
           "shape": ""
          }
         },
         "name": "FalsePositive",
         "offsetgroup": "FalsePositive",
         "orientation": "v",
         "showlegend": true,
         "textposition": "auto",
         "type": "bar",
         "x": [
          "conditional-detr-resnet-50,",
          "detr-resnet-101,",
          "detr-resnet-50,",
          "yolos-base,",
          "yolos-tiny,",
          "conditional-detr-resnet-50,detr-resnet-101,",
          "conditional-detr-resnet-50,detr-resnet-50,",
          "conditional-detr-resnet-50,yolos-base,",
          "conditional-detr-resnet-50,yolos-tiny,",
          "detr-resnet-101,detr-resnet-50,",
          "detr-resnet-101,yolos-base,",
          "detr-resnet-101,yolos-tiny,",
          "detr-resnet-50,yolos-base,",
          "detr-resnet-50,yolos-tiny,",
          "yolos-base,yolos-tiny,",
          "conditional-detr-resnet-50,detr-resnet-101,detr-resnet-50,",
          "conditional-detr-resnet-50,detr-resnet-101,yolos-base,",
          "conditional-detr-resnet-50,detr-resnet-101,yolos-tiny,",
          "conditional-detr-resnet-50,detr-resnet-50,yolos-base,",
          "conditional-detr-resnet-50,detr-resnet-50,yolos-tiny,",
          "conditional-detr-resnet-50,yolos-base,yolos-tiny,",
          "detr-resnet-101,detr-resnet-50,yolos-base,",
          "detr-resnet-101,detr-resnet-50,yolos-tiny,",
          "detr-resnet-101,yolos-base,yolos-tiny,",
          "detr-resnet-50,yolos-base,yolos-tiny,",
          "conditional-detr-resnet-50,detr-resnet-101,detr-resnet-50,yolos-base,",
          "conditional-detr-resnet-50,detr-resnet-101,detr-resnet-50,yolos-tiny,",
          "conditional-detr-resnet-50,detr-resnet-101,yolos-base,yolos-tiny,",
          "conditional-detr-resnet-50,detr-resnet-50,yolos-base,yolos-tiny,",
          "detr-resnet-101,detr-resnet-50,yolos-base,yolos-tiny,",
          "conditional-detr-resnet-50,detr-resnet-101,detr-resnet-50,yolos-base,yolos-tiny,"
         ],
         "xaxis": "x",
         "y": [
          0,
          38,
          35,
          25,
          65,
          1,
          6,
          1,
          1,
          16,
          8,
          3,
          15,
          8,
          5,
          0,
          1,
          1,
          0,
          2,
          0,
          3,
          2,
          2,
          3,
          0,
          1,
          2,
          0,
          1,
          1
         ],
         "yaxis": "y"
        },
        {
         "alignmentgroup": "True",
         "hovertemplate": "variable=FalseNegative<br>index=%{x}<br>value=%{y}<extra></extra>",
         "legendgroup": "FalseNegative",
         "marker": {
          "color": "#00cc96",
          "pattern": {
           "shape": ""
          }
         },
         "name": "FalseNegative",
         "offsetgroup": "FalseNegative",
         "orientation": "v",
         "showlegend": true,
         "textposition": "auto",
         "type": "bar",
         "x": [
          "conditional-detr-resnet-50,",
          "detr-resnet-101,",
          "detr-resnet-50,",
          "yolos-base,",
          "yolos-tiny,",
          "conditional-detr-resnet-50,detr-resnet-101,",
          "conditional-detr-resnet-50,detr-resnet-50,",
          "conditional-detr-resnet-50,yolos-base,",
          "conditional-detr-resnet-50,yolos-tiny,",
          "detr-resnet-101,detr-resnet-50,",
          "detr-resnet-101,yolos-base,",
          "detr-resnet-101,yolos-tiny,",
          "detr-resnet-50,yolos-base,",
          "detr-resnet-50,yolos-tiny,",
          "yolos-base,yolos-tiny,",
          "conditional-detr-resnet-50,detr-resnet-101,detr-resnet-50,",
          "conditional-detr-resnet-50,detr-resnet-101,yolos-base,",
          "conditional-detr-resnet-50,detr-resnet-101,yolos-tiny,",
          "conditional-detr-resnet-50,detr-resnet-50,yolos-base,",
          "conditional-detr-resnet-50,detr-resnet-50,yolos-tiny,",
          "conditional-detr-resnet-50,yolos-base,yolos-tiny,",
          "detr-resnet-101,detr-resnet-50,yolos-base,",
          "detr-resnet-101,detr-resnet-50,yolos-tiny,",
          "detr-resnet-101,yolos-base,yolos-tiny,",
          "detr-resnet-50,yolos-base,yolos-tiny,",
          "conditional-detr-resnet-50,detr-resnet-101,detr-resnet-50,yolos-base,",
          "conditional-detr-resnet-50,detr-resnet-101,detr-resnet-50,yolos-tiny,",
          "conditional-detr-resnet-50,detr-resnet-101,yolos-base,yolos-tiny,",
          "conditional-detr-resnet-50,detr-resnet-50,yolos-base,yolos-tiny,",
          "detr-resnet-101,detr-resnet-50,yolos-base,yolos-tiny,",
          "conditional-detr-resnet-50,detr-resnet-101,detr-resnet-50,yolos-base,yolos-tiny,"
         ],
         "xaxis": "x",
         "y": [
          96,
          84,
          90,
          78,
          55,
          91,
          93,
          95,
          95,
          81,
          91,
          96,
          92,
          95,
          91,
          86,
          95,
          95,
          94,
          94,
          96,
          89,
          96,
          95,
          95,
          84,
          95,
          94,
          96,
          92,
          76
         ],
         "yaxis": "y"
        }
       ],
       "layout": {
        "autosize": true,
        "barmode": "relative",
        "legend": {
         "title": {
          "text": "variable"
         },
         "tracegroupgap": 0
        },
        "template": {
         "data": {
          "bar": [
           {
            "error_x": {
             "color": "#2a3f5f"
            },
            "error_y": {
             "color": "#2a3f5f"
            },
            "marker": {
             "line": {
              "color": "#E5ECF6",
              "width": 0.5
             },
             "pattern": {
              "fillmode": "overlay",
              "size": 10,
              "solidity": 0.2
             }
            },
            "type": "bar"
           }
          ],
          "barpolar": [
           {
            "marker": {
             "line": {
              "color": "#E5ECF6",
              "width": 0.5
             },
             "pattern": {
              "fillmode": "overlay",
              "size": 10,
              "solidity": 0.2
             }
            },
            "type": "barpolar"
           }
          ],
          "carpet": [
           {
            "aaxis": {
             "endlinecolor": "#2a3f5f",
             "gridcolor": "white",
             "linecolor": "white",
             "minorgridcolor": "white",
             "startlinecolor": "#2a3f5f"
            },
            "baxis": {
             "endlinecolor": "#2a3f5f",
             "gridcolor": "white",
             "linecolor": "white",
             "minorgridcolor": "white",
             "startlinecolor": "#2a3f5f"
            },
            "type": "carpet"
           }
          ],
          "choropleth": [
           {
            "colorbar": {
             "outlinewidth": 0,
             "ticks": ""
            },
            "type": "choropleth"
           }
          ],
          "contour": [
           {
            "colorbar": {
             "outlinewidth": 0,
             "ticks": ""
            },
            "colorscale": [
             [
              0,
              "#0d0887"
             ],
             [
              0.1111111111111111,
              "#46039f"
             ],
             [
              0.2222222222222222,
              "#7201a8"
             ],
             [
              0.3333333333333333,
              "#9c179e"
             ],
             [
              0.4444444444444444,
              "#bd3786"
             ],
             [
              0.5555555555555556,
              "#d8576b"
             ],
             [
              0.6666666666666666,
              "#ed7953"
             ],
             [
              0.7777777777777778,
              "#fb9f3a"
             ],
             [
              0.8888888888888888,
              "#fdca26"
             ],
             [
              1,
              "#f0f921"
             ]
            ],
            "type": "contour"
           }
          ],
          "contourcarpet": [
           {
            "colorbar": {
             "outlinewidth": 0,
             "ticks": ""
            },
            "type": "contourcarpet"
           }
          ],
          "heatmap": [
           {
            "colorbar": {
             "outlinewidth": 0,
             "ticks": ""
            },
            "colorscale": [
             [
              0,
              "#0d0887"
             ],
             [
              0.1111111111111111,
              "#46039f"
             ],
             [
              0.2222222222222222,
              "#7201a8"
             ],
             [
              0.3333333333333333,
              "#9c179e"
             ],
             [
              0.4444444444444444,
              "#bd3786"
             ],
             [
              0.5555555555555556,
              "#d8576b"
             ],
             [
              0.6666666666666666,
              "#ed7953"
             ],
             [
              0.7777777777777778,
              "#fb9f3a"
             ],
             [
              0.8888888888888888,
              "#fdca26"
             ],
             [
              1,
              "#f0f921"
             ]
            ],
            "type": "heatmap"
           }
          ],
          "heatmapgl": [
           {
            "colorbar": {
             "outlinewidth": 0,
             "ticks": ""
            },
            "colorscale": [
             [
              0,
              "#0d0887"
             ],
             [
              0.1111111111111111,
              "#46039f"
             ],
             [
              0.2222222222222222,
              "#7201a8"
             ],
             [
              0.3333333333333333,
              "#9c179e"
             ],
             [
              0.4444444444444444,
              "#bd3786"
             ],
             [
              0.5555555555555556,
              "#d8576b"
             ],
             [
              0.6666666666666666,
              "#ed7953"
             ],
             [
              0.7777777777777778,
              "#fb9f3a"
             ],
             [
              0.8888888888888888,
              "#fdca26"
             ],
             [
              1,
              "#f0f921"
             ]
            ],
            "type": "heatmapgl"
           }
          ],
          "histogram": [
           {
            "marker": {
             "pattern": {
              "fillmode": "overlay",
              "size": 10,
              "solidity": 0.2
             }
            },
            "type": "histogram"
           }
          ],
          "histogram2d": [
           {
            "colorbar": {
             "outlinewidth": 0,
             "ticks": ""
            },
            "colorscale": [
             [
              0,
              "#0d0887"
             ],
             [
              0.1111111111111111,
              "#46039f"
             ],
             [
              0.2222222222222222,
              "#7201a8"
             ],
             [
              0.3333333333333333,
              "#9c179e"
             ],
             [
              0.4444444444444444,
              "#bd3786"
             ],
             [
              0.5555555555555556,
              "#d8576b"
             ],
             [
              0.6666666666666666,
              "#ed7953"
             ],
             [
              0.7777777777777778,
              "#fb9f3a"
             ],
             [
              0.8888888888888888,
              "#fdca26"
             ],
             [
              1,
              "#f0f921"
             ]
            ],
            "type": "histogram2d"
           }
          ],
          "histogram2dcontour": [
           {
            "colorbar": {
             "outlinewidth": 0,
             "ticks": ""
            },
            "colorscale": [
             [
              0,
              "#0d0887"
             ],
             [
              0.1111111111111111,
              "#46039f"
             ],
             [
              0.2222222222222222,
              "#7201a8"
             ],
             [
              0.3333333333333333,
              "#9c179e"
             ],
             [
              0.4444444444444444,
              "#bd3786"
             ],
             [
              0.5555555555555556,
              "#d8576b"
             ],
             [
              0.6666666666666666,
              "#ed7953"
             ],
             [
              0.7777777777777778,
              "#fb9f3a"
             ],
             [
              0.8888888888888888,
              "#fdca26"
             ],
             [
              1,
              "#f0f921"
             ]
            ],
            "type": "histogram2dcontour"
           }
          ],
          "mesh3d": [
           {
            "colorbar": {
             "outlinewidth": 0,
             "ticks": ""
            },
            "type": "mesh3d"
           }
          ],
          "parcoords": [
           {
            "line": {
             "colorbar": {
              "outlinewidth": 0,
              "ticks": ""
             }
            },
            "type": "parcoords"
           }
          ],
          "pie": [
           {
            "automargin": true,
            "type": "pie"
           }
          ],
          "scatter": [
           {
            "fillpattern": {
             "fillmode": "overlay",
             "size": 10,
             "solidity": 0.2
            },
            "type": "scatter"
           }
          ],
          "scatter3d": [
           {
            "line": {
             "colorbar": {
              "outlinewidth": 0,
              "ticks": ""
             }
            },
            "marker": {
             "colorbar": {
              "outlinewidth": 0,
              "ticks": ""
             }
            },
            "type": "scatter3d"
           }
          ],
          "scattercarpet": [
           {
            "marker": {
             "colorbar": {
              "outlinewidth": 0,
              "ticks": ""
             }
            },
            "type": "scattercarpet"
           }
          ],
          "scattergeo": [
           {
            "marker": {
             "colorbar": {
              "outlinewidth": 0,
              "ticks": ""
             }
            },
            "type": "scattergeo"
           }
          ],
          "scattergl": [
           {
            "marker": {
             "colorbar": {
              "outlinewidth": 0,
              "ticks": ""
             }
            },
            "type": "scattergl"
           }
          ],
          "scattermapbox": [
           {
            "marker": {
             "colorbar": {
              "outlinewidth": 0,
              "ticks": ""
             }
            },
            "type": "scattermapbox"
           }
          ],
          "scatterpolar": [
           {
            "marker": {
             "colorbar": {
              "outlinewidth": 0,
              "ticks": ""
             }
            },
            "type": "scatterpolar"
           }
          ],
          "scatterpolargl": [
           {
            "marker": {
             "colorbar": {
              "outlinewidth": 0,
              "ticks": ""
             }
            },
            "type": "scatterpolargl"
           }
          ],
          "scatterternary": [
           {
            "marker": {
             "colorbar": {
              "outlinewidth": 0,
              "ticks": ""
             }
            },
            "type": "scatterternary"
           }
          ],
          "surface": [
           {
            "colorbar": {
             "outlinewidth": 0,
             "ticks": ""
            },
            "colorscale": [
             [
              0,
              "#0d0887"
             ],
             [
              0.1111111111111111,
              "#46039f"
             ],
             [
              0.2222222222222222,
              "#7201a8"
             ],
             [
              0.3333333333333333,
              "#9c179e"
             ],
             [
              0.4444444444444444,
              "#bd3786"
             ],
             [
              0.5555555555555556,
              "#d8576b"
             ],
             [
              0.6666666666666666,
              "#ed7953"
             ],
             [
              0.7777777777777778,
              "#fb9f3a"
             ],
             [
              0.8888888888888888,
              "#fdca26"
             ],
             [
              1,
              "#f0f921"
             ]
            ],
            "type": "surface"
           }
          ],
          "table": [
           {
            "cells": {
             "fill": {
              "color": "#EBF0F8"
             },
             "line": {
              "color": "white"
             }
            },
            "header": {
             "fill": {
              "color": "#C8D4E3"
             },
             "line": {
              "color": "white"
             }
            },
            "type": "table"
           }
          ]
         },
         "layout": {
          "annotationdefaults": {
           "arrowcolor": "#2a3f5f",
           "arrowhead": 0,
           "arrowwidth": 1
          },
          "autotypenumbers": "strict",
          "coloraxis": {
           "colorbar": {
            "outlinewidth": 0,
            "ticks": ""
           }
          },
          "colorscale": {
           "diverging": [
            [
             0,
             "#8e0152"
            ],
            [
             0.1,
             "#c51b7d"
            ],
            [
             0.2,
             "#de77ae"
            ],
            [
             0.3,
             "#f1b6da"
            ],
            [
             0.4,
             "#fde0ef"
            ],
            [
             0.5,
             "#f7f7f7"
            ],
            [
             0.6,
             "#e6f5d0"
            ],
            [
             0.7,
             "#b8e186"
            ],
            [
             0.8,
             "#7fbc41"
            ],
            [
             0.9,
             "#4d9221"
            ],
            [
             1,
             "#276419"
            ]
           ],
           "sequential": [
            [
             0,
             "#0d0887"
            ],
            [
             0.1111111111111111,
             "#46039f"
            ],
            [
             0.2222222222222222,
             "#7201a8"
            ],
            [
             0.3333333333333333,
             "#9c179e"
            ],
            [
             0.4444444444444444,
             "#bd3786"
            ],
            [
             0.5555555555555556,
             "#d8576b"
            ],
            [
             0.6666666666666666,
             "#ed7953"
            ],
            [
             0.7777777777777778,
             "#fb9f3a"
            ],
            [
             0.8888888888888888,
             "#fdca26"
            ],
            [
             1,
             "#f0f921"
            ]
           ],
           "sequentialminus": [
            [
             0,
             "#0d0887"
            ],
            [
             0.1111111111111111,
             "#46039f"
            ],
            [
             0.2222222222222222,
             "#7201a8"
            ],
            [
             0.3333333333333333,
             "#9c179e"
            ],
            [
             0.4444444444444444,
             "#bd3786"
            ],
            [
             0.5555555555555556,
             "#d8576b"
            ],
            [
             0.6666666666666666,
             "#ed7953"
            ],
            [
             0.7777777777777778,
             "#fb9f3a"
            ],
            [
             0.8888888888888888,
             "#fdca26"
            ],
            [
             1,
             "#f0f921"
            ]
           ]
          },
          "colorway": [
           "#636efa",
           "#EF553B",
           "#00cc96",
           "#ab63fa",
           "#FFA15A",
           "#19d3f3",
           "#FF6692",
           "#B6E880",
           "#FF97FF",
           "#FECB52"
          ],
          "font": {
           "color": "#2a3f5f"
          },
          "geo": {
           "bgcolor": "white",
           "lakecolor": "white",
           "landcolor": "#E5ECF6",
           "showlakes": true,
           "showland": true,
           "subunitcolor": "white"
          },
          "hoverlabel": {
           "align": "left"
          },
          "hovermode": "closest",
          "mapbox": {
           "style": "light"
          },
          "paper_bgcolor": "white",
          "plot_bgcolor": "#E5ECF6",
          "polar": {
           "angularaxis": {
            "gridcolor": "white",
            "linecolor": "white",
            "ticks": ""
           },
           "bgcolor": "#E5ECF6",
           "radialaxis": {
            "gridcolor": "white",
            "linecolor": "white",
            "ticks": ""
           }
          },
          "scene": {
           "xaxis": {
            "backgroundcolor": "#E5ECF6",
            "gridcolor": "white",
            "gridwidth": 2,
            "linecolor": "white",
            "showbackground": true,
            "ticks": "",
            "zerolinecolor": "white"
           },
           "yaxis": {
            "backgroundcolor": "#E5ECF6",
            "gridcolor": "white",
            "gridwidth": 2,
            "linecolor": "white",
            "showbackground": true,
            "ticks": "",
            "zerolinecolor": "white"
           },
           "zaxis": {
            "backgroundcolor": "#E5ECF6",
            "gridcolor": "white",
            "gridwidth": 2,
            "linecolor": "white",
            "showbackground": true,
            "ticks": "",
            "zerolinecolor": "white"
           }
          },
          "shapedefaults": {
           "line": {
            "color": "#2a3f5f"
           }
          },
          "ternary": {
           "aaxis": {
            "gridcolor": "white",
            "linecolor": "white",
            "ticks": ""
           },
           "baxis": {
            "gridcolor": "white",
            "linecolor": "white",
            "ticks": ""
           },
           "bgcolor": "#E5ECF6",
           "caxis": {
            "gridcolor": "white",
            "linecolor": "white",
            "ticks": ""
           }
          },
          "title": {
           "x": 0.05
          },
          "xaxis": {
           "automargin": true,
           "gridcolor": "white",
           "linecolor": "white",
           "ticks": "",
           "title": {
            "standoff": 15
           },
           "zerolinecolor": "white",
           "zerolinewidth": 2
          },
          "yaxis": {
           "automargin": true,
           "gridcolor": "white",
           "linecolor": "white",
           "ticks": "",
           "title": {
            "standoff": 15
           },
           "zerolinecolor": "white",
           "zerolinewidth": 2
          }
         }
        },
        "title": {
         "text": "IOU .5, Confidence .5"
        },
        "xaxis": {
         "anchor": "y",
         "autorange": true,
         "domain": [
          0,
          1
         ],
         "range": [
          -0.5,
          30.5
         ],
         "title": {
          "text": "index"
         },
         "type": "category"
        },
        "yaxis": {
         "anchor": "x",
         "autorange": true,
         "domain": [
          0,
          1
         ],
         "range": [
          0,
          170.5263157894737
         ],
         "title": {
          "text": "value"
         },
         "type": "linear"
        }
       }
      },
      "image/png": "[encoded data removed]",
      "text/html": [
       "<div>                            <div id=\"59f1b2d9-be8f-4971-a1fa-ab047b7cb10a\" class=\"plotly-graph-div\" style=\"height:525px; width:100%;\"></div>            <script type=\"text/javascript\">                require([\"plotly\"], function(Plotly) {                    window.PLOTLYENV=window.PLOTLYENV || {};                                    if (document.getElementById(\"59f1b2d9-be8f-4971-a1fa-ab047b7cb10a\")) {                    Plotly.newPlot(                        \"59f1b2d9-be8f-4971-a1fa-ab047b7cb10a\",                        [{\"alignmentgroup\":\"True\",\"hovertemplate\":\"variable=TruePositive<br>index=%{x}<br>value=%{y}<extra></extra>\",\"legendgroup\":\"TruePositive\",\"marker\":{\"color\":\"#636efa\",\"pattern\":{\"shape\":\"\"}},\"name\":\"TruePositive\",\"offsetgroup\":\"TruePositive\",\"orientation\":\"v\",\"showlegend\":true,\"textposition\":\"auto\",\"x\":[\"conditional-detr-resnet-50,\",\"detr-resnet-101,\",\"detr-resnet-50,\",\"yolos-base,\",\"yolos-tiny,\",\"conditional-detr-resnet-50,detr-resnet-101,\",\"conditional-detr-resnet-50,detr-resnet-50,\",\"conditional-detr-resnet-50,yolos-base,\",\"conditional-detr-resnet-50,yolos-tiny,\",\"detr-resnet-101,detr-resnet-50,\",\"detr-resnet-101,yolos-base,\",\"detr-resnet-101,yolos-tiny,\",\"detr-resnet-50,yolos-base,\",\"detr-resnet-50,yolos-tiny,\",\"yolos-base,yolos-tiny,\",\"conditional-detr-resnet-50,detr-resnet-101,detr-resnet-50,\",\"conditional-detr-resnet-50,detr-resnet-101,yolos-base,\",\"conditional-detr-resnet-50,detr-resnet-101,yolos-tiny,\",\"conditional-detr-resnet-50,detr-resnet-50,yolos-base,\",\"conditional-detr-resnet-50,detr-resnet-50,yolos-tiny,\",\"conditional-detr-resnet-50,yolos-base,yolos-tiny,\",\"detr-resnet-101,detr-resnet-50,yolos-base,\",\"detr-resnet-101,detr-resnet-50,yolos-tiny,\",\"detr-resnet-101,yolos-base,yolos-tiny,\",\"detr-resnet-50,yolos-base,yolos-tiny,\",\"conditional-detr-resnet-50,detr-resnet-101,detr-resnet-50,yolos-base,\",\"conditional-detr-resnet-50,detr-resnet-101,detr-resnet-50,yolos-tiny,\",\"conditional-detr-resnet-50,detr-resnet-101,yolos-base,yolos-tiny,\",\"conditional-detr-resnet-50,detr-resnet-50,yolos-base,yolos-tiny,\",\"detr-resnet-101,detr-resnet-50,yolos-base,yolos-tiny,\",\"conditional-detr-resnet-50,detr-resnet-101,detr-resnet-50,yolos-base,yolos-tiny,\"],\"xaxis\":\"x\",\"y\":[0,9,5,15,42,4,2,1,0,14,3,0,2,0,5,10,0,0,2,1,0,5,0,1,0,12,0,1,0,3,19],\"yaxis\":\"y\",\"type\":\"bar\"},{\"alignmentgroup\":\"True\",\"hovertemplate\":\"variable=FalsePositive<br>index=%{x}<br>value=%{y}<extra></extra>\",\"legendgroup\":\"FalsePositive\",\"marker\":{\"color\":\"#EF553B\",\"pattern\":{\"shape\":\"\"}},\"name\":\"FalsePositive\",\"offsetgroup\":\"FalsePositive\",\"orientation\":\"v\",\"showlegend\":true,\"textposition\":\"auto\",\"x\":[\"conditional-detr-resnet-50,\",\"detr-resnet-101,\",\"detr-resnet-50,\",\"yolos-base,\",\"yolos-tiny,\",\"conditional-detr-resnet-50,detr-resnet-101,\",\"conditional-detr-resnet-50,detr-resnet-50,\",\"conditional-detr-resnet-50,yolos-base,\",\"conditional-detr-resnet-50,yolos-tiny,\",\"detr-resnet-101,detr-resnet-50,\",\"detr-resnet-101,yolos-base,\",\"detr-resnet-101,yolos-tiny,\",\"detr-resnet-50,yolos-base,\",\"detr-resnet-50,yolos-tiny,\",\"yolos-base,yolos-tiny,\",\"conditional-detr-resnet-50,detr-resnet-101,detr-resnet-50,\",\"conditional-detr-resnet-50,detr-resnet-101,yolos-base,\",\"conditional-detr-resnet-50,detr-resnet-101,yolos-tiny,\",\"conditional-detr-resnet-50,detr-resnet-50,yolos-base,\",\"conditional-detr-resnet-50,detr-resnet-50,yolos-tiny,\",\"conditional-detr-resnet-50,yolos-base,yolos-tiny,\",\"detr-resnet-101,detr-resnet-50,yolos-base,\",\"detr-resnet-101,detr-resnet-50,yolos-tiny,\",\"detr-resnet-101,yolos-base,yolos-tiny,\",\"detr-resnet-50,yolos-base,yolos-tiny,\",\"conditional-detr-resnet-50,detr-resnet-101,detr-resnet-50,yolos-base,\",\"conditional-detr-resnet-50,detr-resnet-101,detr-resnet-50,yolos-tiny,\",\"conditional-detr-resnet-50,detr-resnet-101,yolos-base,yolos-tiny,\",\"conditional-detr-resnet-50,detr-resnet-50,yolos-base,yolos-tiny,\",\"detr-resnet-101,detr-resnet-50,yolos-base,yolos-tiny,\",\"conditional-detr-resnet-50,detr-resnet-101,detr-resnet-50,yolos-base,yolos-tiny,\"],\"xaxis\":\"x\",\"y\":[0,38,35,25,65,1,6,1,1,16,8,3,15,8,5,0,1,1,0,2,0,3,2,2,3,0,1,2,0,1,1],\"yaxis\":\"y\",\"type\":\"bar\"},{\"alignmentgroup\":\"True\",\"hovertemplate\":\"variable=FalseNegative<br>index=%{x}<br>value=%{y}<extra></extra>\",\"legendgroup\":\"FalseNegative\",\"marker\":{\"color\":\"#00cc96\",\"pattern\":{\"shape\":\"\"}},\"name\":\"FalseNegative\",\"offsetgroup\":\"FalseNegative\",\"orientation\":\"v\",\"showlegend\":true,\"textposition\":\"auto\",\"x\":[\"conditional-detr-resnet-50,\",\"detr-resnet-101,\",\"detr-resnet-50,\",\"yolos-base,\",\"yolos-tiny,\",\"conditional-detr-resnet-50,detr-resnet-101,\",\"conditional-detr-resnet-50,detr-resnet-50,\",\"conditional-detr-resnet-50,yolos-base,\",\"conditional-detr-resnet-50,yolos-tiny,\",\"detr-resnet-101,detr-resnet-50,\",\"detr-resnet-101,yolos-base,\",\"detr-resnet-101,yolos-tiny,\",\"detr-resnet-50,yolos-base,\",\"detr-resnet-50,yolos-tiny,\",\"yolos-base,yolos-tiny,\",\"conditional-detr-resnet-50,detr-resnet-101,detr-resnet-50,\",\"conditional-detr-resnet-50,detr-resnet-101,yolos-base,\",\"conditional-detr-resnet-50,detr-resnet-101,yolos-tiny,\",\"conditional-detr-resnet-50,detr-resnet-50,yolos-base,\",\"conditional-detr-resnet-50,detr-resnet-50,yolos-tiny,\",\"conditional-detr-resnet-50,yolos-base,yolos-tiny,\",\"detr-resnet-101,detr-resnet-50,yolos-base,\",\"detr-resnet-101,detr-resnet-50,yolos-tiny,\",\"detr-resnet-101,yolos-base,yolos-tiny,\",\"detr-resnet-50,yolos-base,yolos-tiny,\",\"conditional-detr-resnet-50,detr-resnet-101,detr-resnet-50,yolos-base,\",\"conditional-detr-resnet-50,detr-resnet-101,detr-resnet-50,yolos-tiny,\",\"conditional-detr-resnet-50,detr-resnet-101,yolos-base,yolos-tiny,\",\"conditional-detr-resnet-50,detr-resnet-50,yolos-base,yolos-tiny,\",\"detr-resnet-101,detr-resnet-50,yolos-base,yolos-tiny,\",\"conditional-detr-resnet-50,detr-resnet-101,detr-resnet-50,yolos-base,yolos-tiny,\"],\"xaxis\":\"x\",\"y\":[96,84,90,78,55,91,93,95,95,81,91,96,92,95,91,86,95,95,94,94,96,89,96,95,95,84,95,94,96,92,76],\"yaxis\":\"y\",\"type\":\"bar\"}],                        {\"template\":{\"data\":{\"histogram2dcontour\":[{\"type\":\"histogram2dcontour\",\"colorbar\":{\"outlinewidth\":0,\"ticks\":\"\"},\"colorscale\":[[0.0,\"#0d0887\"],[0.1111111111111111,\"#46039f\"],[0.2222222222222222,\"#7201a8\"],[0.3333333333333333,\"#9c179e\"],[0.4444444444444444,\"#bd3786\"],[0.5555555555555556,\"#d8576b\"],[0.6666666666666666,\"#ed7953\"],[0.7777777777777778,\"#fb9f3a\"],[0.8888888888888888,\"#fdca26\"],[1.0,\"#f0f921\"]]}],\"choropleth\":[{\"type\":\"choropleth\",\"colorbar\":{\"outlinewidth\":0,\"ticks\":\"\"}}],\"histogram2d\":[{\"type\":\"histogram2d\",\"colorbar\":{\"outlinewidth\":0,\"ticks\":\"\"},\"colorscale\":[[0.0,\"#0d0887\"],[0.1111111111111111,\"#46039f\"],[0.2222222222222222,\"#7201a8\"],[0.3333333333333333,\"#9c179e\"],[0.4444444444444444,\"#bd3786\"],[0.5555555555555556,\"#d8576b\"],[0.6666666666666666,\"#ed7953\"],[0.7777777777777778,\"#fb9f3a\"],[0.8888888888888888,\"#fdca26\"],[1.0,\"#f0f921\"]]}],\"heatmap\":[{\"type\":\"heatmap\",\"colorbar\":{\"outlinewidth\":0,\"ticks\":\"\"},\"colorscale\":[[0.0,\"#0d0887\"],[0.1111111111111111,\"#46039f\"],[0.2222222222222222,\"#7201a8\"],[0.3333333333333333,\"#9c179e\"],[0.4444444444444444,\"#bd3786\"],[0.5555555555555556,\"#d8576b\"],[0.6666666666666666,\"#ed7953\"],[0.7777777777777778,\"#fb9f3a\"],[0.8888888888888888,\"#fdca26\"],[1.0,\"#f0f921\"]]}],\"heatmapgl\":[{\"type\":\"heatmapgl\",\"colorbar\":{\"outlinewidth\":0,\"ticks\":\"\"},\"colorscale\":[[0.0,\"#0d0887\"],[0.1111111111111111,\"#46039f\"],[0.2222222222222222,\"#7201a8\"],[0.3333333333333333,\"#9c179e\"],[0.4444444444444444,\"#bd3786\"],[0.5555555555555556,\"#d8576b\"],[0.6666666666666666,\"#ed7953\"],[0.7777777777777778,\"#fb9f3a\"],[0.8888888888888888,\"#fdca26\"],[1.0,\"#f0f921\"]]}],\"contourcarpet\":[{\"type\":\"contourcarpet\",\"colorbar\":{\"outlinewidth\":0,\"ticks\":\"\"}}],\"contour\":[{\"type\":\"contour\",\"colorbar\":{\"outlinewidth\":0,\"ticks\":\"\"},\"colorscale\":[[0.0,\"#0d0887\"],[0.1111111111111111,\"#46039f\"],[0.2222222222222222,\"#7201a8\"],[0.3333333333333333,\"#9c179e\"],[0.4444444444444444,\"#bd3786\"],[0.5555555555555556,\"#d8576b\"],[0.6666666666666666,\"#ed7953\"],[0.7777777777777778,\"#fb9f3a\"],[0.8888888888888888,\"#fdca26\"],[1.0,\"#f0f921\"]]}],\"surface\":[{\"type\":\"surface\",\"colorbar\":{\"outlinewidth\":0,\"ticks\":\"\"},\"colorscale\":[[0.0,\"#0d0887\"],[0.1111111111111111,\"#46039f\"],[0.2222222222222222,\"#7201a8\"],[0.3333333333333333,\"#9c179e\"],[0.4444444444444444,\"#bd3786\"],[0.5555555555555556,\"#d8576b\"],[0.6666666666666666,\"#ed7953\"],[0.7777777777777778,\"#fb9f3a\"],[0.8888888888888888,\"#fdca26\"],[1.0,\"#f0f921\"]]}],\"mesh3d\":[{\"type\":\"mesh3d\",\"colorbar\":{\"outlinewidth\":0,\"ticks\":\"\"}}],\"scatter\":[{\"fillpattern\":{\"fillmode\":\"overlay\",\"size\":10,\"solidity\":0.2},\"type\":\"scatter\"}],\"parcoords\":[{\"type\":\"parcoords\",\"line\":{\"colorbar\":{\"outlinewidth\":0,\"ticks\":\"\"}}}],\"scatterpolargl\":[{\"type\":\"scatterpolargl\",\"marker\":{\"colorbar\":{\"outlinewidth\":0,\"ticks\":\"\"}}}],\"bar\":[{\"error_x\":{\"color\":\"#2a3f5f\"},\"error_y\":{\"color\":\"#2a3f5f\"},\"marker\":{\"line\":{\"color\":\"#E5ECF6\",\"width\":0.5},\"pattern\":{\"fillmode\":\"overlay\",\"size\":10,\"solidity\":0.2}},\"type\":\"bar\"}],\"scattergeo\":[{\"type\":\"scattergeo\",\"marker\":{\"colorbar\":{\"outlinewidth\":0,\"ticks\":\"\"}}}],\"scatterpolar\":[{\"type\":\"scatterpolar\",\"marker\":{\"colorbar\":{\"outlinewidth\":0,\"ticks\":\"\"}}}],\"histogram\":[{\"marker\":{\"pattern\":{\"fillmode\":\"overlay\",\"size\":10,\"solidity\":0.2}},\"type\":\"histogram\"}],\"scattergl\":[{\"type\":\"scattergl\",\"marker\":{\"colorbar\":{\"outlinewidth\":0,\"ticks\":\"\"}}}],\"scatter3d\":[{\"type\":\"scatter3d\",\"line\":{\"colorbar\":{\"outlinewidth\":0,\"ticks\":\"\"}},\"marker\":{\"colorbar\":{\"outlinewidth\":0,\"ticks\":\"\"}}}],\"scattermapbox\":[{\"type\":\"scattermapbox\",\"marker\":{\"colorbar\":{\"outlinewidth\":0,\"ticks\":\"\"}}}],\"scatterternary\":[{\"type\":\"scatterternary\",\"marker\":{\"colorbar\":{\"outlinewidth\":0,\"ticks\":\"\"}}}],\"scattercarpet\":[{\"type\":\"scattercarpet\",\"marker\":{\"colorbar\":{\"outlinewidth\":0,\"ticks\":\"\"}}}],\"carpet\":[{\"aaxis\":{\"endlinecolor\":\"#2a3f5f\",\"gridcolor\":\"white\",\"linecolor\":\"white\",\"minorgridcolor\":\"white\",\"startlinecolor\":\"#2a3f5f\"},\"baxis\":{\"endlinecolor\":\"#2a3f5f\",\"gridcolor\":\"white\",\"linecolor\":\"white\",\"minorgridcolor\":\"white\",\"startlinecolor\":\"#2a3f5f\"},\"type\":\"carpet\"}],\"table\":[{\"cells\":{\"fill\":{\"color\":\"#EBF0F8\"},\"line\":{\"color\":\"white\"}},\"header\":{\"fill\":{\"color\":\"#C8D4E3\"},\"line\":{\"color\":\"white\"}},\"type\":\"table\"}],\"barpolar\":[{\"marker\":{\"line\":{\"color\":\"#E5ECF6\",\"width\":0.5},\"pattern\":{\"fillmode\":\"overlay\",\"size\":10,\"solidity\":0.2}},\"type\":\"barpolar\"}],\"pie\":[{\"automargin\":true,\"type\":\"pie\"}]},\"layout\":{\"autotypenumbers\":\"strict\",\"colorway\":[\"#636efa\",\"#EF553B\",\"#00cc96\",\"#ab63fa\",\"#FFA15A\",\"#19d3f3\",\"#FF6692\",\"#B6E880\",\"#FF97FF\",\"#FECB52\"],\"font\":{\"color\":\"#2a3f5f\"},\"hovermode\":\"closest\",\"hoverlabel\":{\"align\":\"left\"},\"paper_bgcolor\":\"white\",\"plot_bgcolor\":\"#E5ECF6\",\"polar\":{\"bgcolor\":\"#E5ECF6\",\"angularaxis\":{\"gridcolor\":\"white\",\"linecolor\":\"white\",\"ticks\":\"\"},\"radialaxis\":{\"gridcolor\":\"white\",\"linecolor\":\"white\",\"ticks\":\"\"}},\"ternary\":{\"bgcolor\":\"#E5ECF6\",\"aaxis\":{\"gridcolor\":\"white\",\"linecolor\":\"white\",\"ticks\":\"\"},\"baxis\":{\"gridcolor\":\"white\",\"linecolor\":\"white\",\"ticks\":\"\"},\"caxis\":{\"gridcolor\":\"white\",\"linecolor\":\"white\",\"ticks\":\"\"}},\"coloraxis\":{\"colorbar\":{\"outlinewidth\":0,\"ticks\":\"\"}},\"colorscale\":{\"sequential\":[[0.0,\"#0d0887\"],[0.1111111111111111,\"#46039f\"],[0.2222222222222222,\"#7201a8\"],[0.3333333333333333,\"#9c179e\"],[0.4444444444444444,\"#bd3786\"],[0.5555555555555556,\"#d8576b\"],[0.6666666666666666,\"#ed7953\"],[0.7777777777777778,\"#fb9f3a\"],[0.8888888888888888,\"#fdca26\"],[1.0,\"#f0f921\"]],\"sequentialminus\":[[0.0,\"#0d0887\"],[0.1111111111111111,\"#46039f\"],[0.2222222222222222,\"#7201a8\"],[0.3333333333333333,\"#9c179e\"],[0.4444444444444444,\"#bd3786\"],[0.5555555555555556,\"#d8576b\"],[0.6666666666666666,\"#ed7953\"],[0.7777777777777778,\"#fb9f3a\"],[0.8888888888888888,\"#fdca26\"],[1.0,\"#f0f921\"]],\"diverging\":[[0,\"#8e0152\"],[0.1,\"#c51b7d\"],[0.2,\"#de77ae\"],[0.3,\"#f1b6da\"],[0.4,\"#fde0ef\"],[0.5,\"#f7f7f7\"],[0.6,\"#e6f5d0\"],[0.7,\"#b8e186\"],[0.8,\"#7fbc41\"],[0.9,\"#4d9221\"],[1,\"#276419\"]]},\"xaxis\":{\"gridcolor\":\"white\",\"linecolor\":\"white\",\"ticks\":\"\",\"title\":{\"standoff\":15},\"zerolinecolor\":\"white\",\"automargin\":true,\"zerolinewidth\":2},\"yaxis\":{\"gridcolor\":\"white\",\"linecolor\":\"white\",\"ticks\":\"\",\"title\":{\"standoff\":15},\"zerolinecolor\":\"white\",\"automargin\":true,\"zerolinewidth\":2},\"scene\":{\"xaxis\":{\"backgroundcolor\":\"#E5ECF6\",\"gridcolor\":\"white\",\"linecolor\":\"white\",\"showbackground\":true,\"ticks\":\"\",\"zerolinecolor\":\"white\",\"gridwidth\":2},\"yaxis\":{\"backgroundcolor\":\"#E5ECF6\",\"gridcolor\":\"white\",\"linecolor\":\"white\",\"showbackground\":true,\"ticks\":\"\",\"zerolinecolor\":\"white\",\"gridwidth\":2},\"zaxis\":{\"backgroundcolor\":\"#E5ECF6\",\"gridcolor\":\"white\",\"linecolor\":\"white\",\"showbackground\":true,\"ticks\":\"\",\"zerolinecolor\":\"white\",\"gridwidth\":2}},\"shapedefaults\":{\"line\":{\"color\":\"#2a3f5f\"}},\"annotationdefaults\":{\"arrowcolor\":\"#2a3f5f\",\"arrowhead\":0,\"arrowwidth\":1},\"geo\":{\"bgcolor\":\"white\",\"landcolor\":\"#E5ECF6\",\"subunitcolor\":\"white\",\"showland\":true,\"showlakes\":true,\"lakecolor\":\"white\"},\"title\":{\"x\":0.05},\"mapbox\":{\"style\":\"light\"}}},\"xaxis\":{\"anchor\":\"y\",\"domain\":[0.0,1.0],\"title\":{\"text\":\"index\"}},\"yaxis\":{\"anchor\":\"x\",\"domain\":[0.0,1.0],\"title\":{\"text\":\"value\"}},\"legend\":{\"title\":{\"text\":\"variable\"},\"tracegroupgap\":0},\"title\":{\"text\":\"IOU .5, Confidence .5\"},\"barmode\":\"relative\"},                        {\"responsive\": true}                    ).then(function(){\n",
       "                            \n",
       "var gd = document.getElementById('59f1b2d9-be8f-4971-a1fa-ab047b7cb10a');\n",
       "var x = new MutationObserver(function (mutations, observer) {{\n",
       "        var display = window.getComputedStyle(gd).display;\n",
       "        if (!display || display === 'none') {{\n",
       "            console.log([gd, 'removed!']);\n",
       "            Plotly.purge(gd);\n",
       "            observer.disconnect();\n",
       "        }}\n",
       "}});\n",
       "\n",
       "// Listen for the removal of the full notebook cells\n",
       "var notebookContainer = gd.closest('#notebook-container');\n",
       "if (notebookContainer) {{\n",
       "    x.observe(notebookContainer, {childList: true});\n",
       "}}\n",
       "\n",
       "// Listen for the clearing of the current output cell\n",
       "var outputEl = gd.closest('.output');\n",
       "if (outputEl) {{\n",
       "    x.observe(outputEl, {childList: true});\n",
       "}}\n",
       "\n",
       "                        })                };                });            </script>        </div>"
      ]
     },
     "metadata": {},
     "output_type": "display_data"
    }
   ],
   "source": [
    "import plotly.express as px\n",
    "\n",
    "fig = px.bar(dataFrameCount, x=\"index\", y=\"value\", color=\"variable\", title=\"IOU .5, Confidence .5\")\n",
    "fig.show()"
   ]
  },
  {
   "cell_type": "code",
   "execution_count": 145,
   "id": "67385351-ba34-4134-bbd3-360f843cb72d",
   "metadata": {},
   "outputs": [
    {
     "data": {
      "text/plain": [
       "[{'imgName': '000000506178.jpg',\n",
       "  'IOU': 0.9451126698765301,\n",
       "  'boxes': {'detr-resnet-101': ['person',\n",
       "    '0.8167',\n",
       "    '0.1879',\n",
       "    '1.0',\n",
       "    '0.9939',\n",
       "    '0.976'],\n",
       "   'detr-resnet-50': ['person',\n",
       "    '0.8228',\n",
       "    '0.1939',\n",
       "    '0.9997',\n",
       "    '0.9928',\n",
       "    '0.956'],\n",
       "   'yolos-base': ['person', '0.8195', '0.1932', '1.0005', '0.9976', '0.981'],\n",
       "   'yolos-tiny': ['person', '0.8158', '0.1926', '0.9999', '0.9944', '0.938']},\n",
       "  'shape': [0.8228, 0.1939, 0.9997, 0.9928],\n",
       "  'confidence': ['0.976', '0.956', '0.981', '0.938'],\n",
       "  'iouGT': 0.27992800875715484,\n",
       "  'gtShape': ['person',\n",
       "   '0.8262400000000001',\n",
       "   '0.19836',\n",
       "   '1.0',\n",
       "   '0.42654000000000003']}]"
      ]
     },
     "execution_count": 145,
     "metadata": {},
     "output_type": "execute_result"
    }
   ],
   "source": [
    "dataFrame['detr-resnet-101,detr-resnet-50,yolos-base,yolos-tiny,']['FalsePositive']"
   ]
  },
  {
   "cell_type": "markdown",
   "id": "a16a3872-1b92-47ac-b287-9745713ad498",
   "metadata": {},
   "source": [
    "To improve f1 you likely want to add ones that have more true positive than false positive\n",
    "\n"
   ]
  },
  {
   "cell_type": "code",
   "execution_count": 13,
   "id": "7111b58b",
   "metadata": {},
   "outputs": [
    {
     "name": "stdout",
     "output_type": "stream",
     "text": [
      "['keypoint', 'retinanet', 'faster_rcnn']\n"
     ]
    }
   ],
   "source": [
    "keys = ['keypoint,', 'keypoint,retinanet,', 'faster_rcnn,keypoint,', 'faster_rcnn,keypoint,retinanet,']\n",
    "unique_keys = []\n",
    "for key in keys:\n",
    "    key_list = key.split(',')\n",
    "    for item in key_list:\n",
    "        if item and item not in unique_keys:\n",
    "            unique_keys.append(item)\n",
    "print(unique_keys)"
   ]
  },
  {
   "cell_type": "code",
   "execution_count": 10,
   "id": "da1241b9-1b4a-495d-860a-26d48c71e57b",
   "metadata": {},
   "outputs": [
    {
     "name": "stdout",
     "output_type": "stream",
     "text": [
      "['faster_rcnn', 'faster_rcnnkeypointretinanet', 'faster_rcnnretinanet', 'keypoint', 'faster_rcnnkeypoint', 'keypointretinanet', 'retinanet']\n"
     ]
    }
   ],
   "source": []
  },
  {
   "cell_type": "code",
   "execution_count": null,
   "id": "839313ab-489a-44d5-9d9e-f13af942535f",
   "metadata": {},
   "outputs": [],
   "source": []
  }
 ],
 "metadata": {
  "kernelspec": {
   "display_name": "Python 3 (ipykernel)",
   "language": "python",
   "name": "python3"
  },
  "language_info": {
   "codemirror_mode": {
    "name": "ipython",
    "version": 3
   },
   "file_extension": ".py",
   "mimetype": "text/x-python",
   "name": "python",
   "nbconvert_exporter": "python",
   "pygments_lexer": "ipython3",
   "version": "3.9.7"
  }
 },
 "nbformat": 4,
 "nbformat_minor": 5
}
